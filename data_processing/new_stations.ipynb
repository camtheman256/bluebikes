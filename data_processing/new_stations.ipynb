{
 "cells": [
  {
   "cell_type": "code",
   "execution_count": 1,
   "id": "dde21d88",
   "metadata": {},
   "outputs": [],
   "source": [
    "import pandas as pd\n",
    "import numpy as np\n",
    "import os\n",
    "from datetime import datetime"
   ]
  },
  {
   "cell_type": "code",
   "execution_count": 6,
   "id": "3fbe7bb6",
   "metadata": {},
   "outputs": [],
   "source": [
    "station_data = pd.read_csv(\"../../data/bluebikes/station_statuses.csv\")\n",
    "station_info = pd.read_csv(\"../../data/bluebikes/stations.csv\")[['station_id','legacy_id','short_name','name','lat','lon']]\n",
    "trips = pd.read_csv(\"../../data/bluebikes/202110-blueblikes-tripdata.csv\")\n",
    "new_stations = pd.read_csv(\"../csv/alltrips/new_stations.csv\")[['id','opened']]"
   ]
  },
  {
   "cell_type": "code",
   "execution_count": 23,
   "id": "188092b6",
   "metadata": {},
   "outputs": [],
   "source": [
    "new_stations = new_stations[new_stations['id']!= \"\\\\N\"]\n",
    "new_stations['legacy_id'] = new_stations['id'].astype('string').astype('int')"
   ]
  },
  {
   "cell_type": "code",
   "execution_count": 25,
   "id": "00f1e4e5",
   "metadata": {},
   "outputs": [],
   "source": [
    "station_info = station_info.merge(new_stations[['legacy_id','opened']], on='legacy_id',how='left')"
   ]
  },
  {
   "cell_type": "code",
   "execution_count": 38,
   "id": "d9d05140",
   "metadata": {},
   "outputs": [
    {
     "name": "stderr",
     "output_type": "stream",
     "text": [
      "/Users/mckenziehumann/opt/anaconda3/envs/BigData21/lib/python3.9/site-packages/pandas/core/indexing.py:1732: SettingWithCopyWarning: \n",
      "A value is trying to be set on a copy of a slice from a DataFrame\n",
      "\n",
      "See the caveats in the documentation: https://pandas.pydata.org/pandas-docs/stable/user_guide/indexing.html#returning-a-view-versus-a-copy\n",
      "  self._setitem_single_block(indexer, value, name)\n"
     ]
    }
   ],
   "source": [
    "station_info['opened'].loc[station_info['opened'].isnull()] = '2021-10-01'"
   ]
  },
  {
   "cell_type": "code",
   "execution_count": 44,
   "id": "e7d3c995",
   "metadata": {},
   "outputs": [],
   "source": [
    "station_info = station_info[~station_info['legacy_id'].duplicated()]"
   ]
  },
  {
   "cell_type": "code",
   "execution_count": 45,
   "id": "b1e0e9c4",
   "metadata": {},
   "outputs": [
    {
     "data": {
      "text/plain": [
       "(420,)"
      ]
     },
     "execution_count": 45,
     "metadata": {},
     "output_type": "execute_result"
    }
   ],
   "source": [
    "station_info['legacy_id'].value_counts().shape"
   ]
  },
  {
   "cell_type": "code",
   "execution_count": 46,
   "id": "061bc082",
   "metadata": {},
   "outputs": [],
   "source": [
    "station_info.to_csv(\"../../data/bluebikes/all_station_info.csv\")"
   ]
  },
  {
   "cell_type": "code",
   "execution_count": null,
   "id": "20164bf3",
   "metadata": {},
   "outputs": [],
   "source": []
  }
 ],
 "metadata": {
  "kernelspec": {
   "display_name": "Python 3 (ipykernel)",
   "language": "python",
   "name": "python3"
  },
  "language_info": {
   "codemirror_mode": {
    "name": "ipython",
    "version": 3
   },
   "file_extension": ".py",
   "mimetype": "text/x-python",
   "name": "python",
   "nbconvert_exporter": "python",
   "pygments_lexer": "ipython3",
   "version": "3.9.6"
  }
 },
 "nbformat": 4,
 "nbformat_minor": 5
}
